{
 "cells": [
  {
   "cell_type": "code",
   "execution_count": 1,
   "id": "87e3fa9b-ac32-4150-b988-9313377a6bd8",
   "metadata": {},
   "outputs": [
    {
     "name": "stdout",
     "output_type": "stream",
     "text": [
      "Tempo de leitura do CSV: 5.541754961013794 segundos\n",
      "Tempo de escrita em Parquet: 2.3773193359375 segundos\n"
     ]
    }
   ],
   "source": [
    "from pyspark.sql import SparkSession\n",
    "import time\n",
    "\n",
    "# Criação da SparkSession\n",
    "spark = SparkSession.builder \\\n",
    "    .appName(\"CSV to Parquet\") \\\n",
    "    .getOrCreate()\n",
    "\n",
    "# Caminhos dos arquivos\n",
    "csv_path = \"csv/complete_fifa_dataset.csv\"\n",
    "parquet_path = \"parquet/complete_fifa_dataset.parquet\"\n",
    "\n",
    "# Início do tempo de leitura\n",
    "start_time = time.time()\n",
    "\n",
    "# Leitura do arquivo CSV\n",
    "df = spark.read.csv(csv_path, header=True, inferSchema=True)\n",
    "\n",
    "# Fim do tempo de leitura\n",
    "read_time = time.time() - start_time\n",
    "print(f\"Tempo de leitura do CSV: {read_time} segundos\")\n",
    "\n",
    "# Início do tempo de escrita\n",
    "start_time = time.time()\n",
    "\n",
    "# Escrita do DataFrame em formato Parquet\n",
    "df.write.parquet(parquet_path)\n",
    "\n",
    "# Fim do tempo de escrita\n",
    "write_time = time.time() - start_time\n",
    "print(f\"Tempo de escrita em Parquet: {write_time} segundos\")\n",
    "\n",
    "# Parar a SparkSession\n",
    "spark.stop()"
   ]
  },
  {
   "cell_type": "code",
   "execution_count": null,
   "id": "3737a491-a298-41b6-a730-cf302165afc1",
   "metadata": {},
   "outputs": [],
   "source": []
  }
 ],
 "metadata": {
  "kernelspec": {
   "display_name": "Python 3 (ipykernel)",
   "language": "python",
   "name": "python3"
  },
  "language_info": {
   "codemirror_mode": {
    "name": "ipython",
    "version": 3
   },
   "file_extension": ".py",
   "mimetype": "text/x-python",
   "name": "python",
   "nbconvert_exporter": "python",
   "pygments_lexer": "ipython3",
   "version": "3.10.6"
  }
 },
 "nbformat": 4,
 "nbformat_minor": 5
}
